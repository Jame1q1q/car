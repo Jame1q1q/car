{
  "nbformat": 4,
  "nbformat_minor": 0,
  "metadata": {
    "colab": {
      "provenance": []
    },
    "kernelspec": {
      "name": "python3",
      "display_name": "Python 3"
    },
    "language_info": {
      "name": "python"
    }
  },
  "cells": [
    {
      "cell_type": "code",
      "execution_count": 20,
      "metadata": {
        "colab": {
          "base_uri": "https://localhost:8080/"
        },
        "id": "2ITf0UYXCWVE",
        "outputId": "00a9077c-a6f1-481e-cfbc-53985184cb95"
      },
      "outputs": [
        {
          "output_type": "stream",
          "name": "stdout",
          "text": [
            "✅ Model and encoders saved to car_price_model.pkl\n"
          ]
        }
      ],
      "source": [
        "# train_model.py\n",
        "import pandas as pd\n",
        "import numpy as np\n",
        "from sklearn.model_selection import train_test_split\n",
        "from sklearn.ensemble import RandomForestRegressor\n",
        "from sklearn.preprocessing import LabelEncoder\n",
        "import pickle\n",
        "\n",
        "# Load the dataset\n",
        "df = pd.read_csv(\"car_price_dataset.csv\")\n",
        "\n",
        "# Drop unnecessary columns\n",
        "# You can tweak this list based on your dataset\n",
        "df = df.drop(columns=[\"car_id\", \"owner\", \"torque\", \"max_power\"], errors=\"ignore\")\n",
        "\n",
        "# Drop rows with missing target values\n",
        "df = df.dropna(subset=[\"selling_price\"])\n",
        "\n",
        "# Handle missing values (simplest method: fill with median)\n",
        "df = df.fillna(df.median(numeric_only=True))\n",
        "\n",
        "# Encode categorical columns\n",
        "# Corrected 'fuel' to 'fuel_type' to match the DataFrame's column name\n",
        "label_cols = [\"seller_type\", \"transmission_type\", \"fuel_type\", \"car_name\", \"brand\", \"model\"]\n",
        "\n",
        "# Filter label_cols to only include columns that are actually present in the DataFrame\n",
        "existing_label_cols = [col for col in label_cols if col in df.columns]\n",
        "\n",
        "label_encoders = {}\n",
        "for col in existing_label_cols:\n",
        "    le = LabelEncoder()\n",
        "    df[col] = le.fit_transform(df[col])\n",
        "    label_encoders[col] = le\n",
        "\n",
        "# Remove outliers in target\n",
        "df = df[df[\"selling_price\"] < df[\"selling_price\"].quantile(0.99)]\n",
        "\n",
        "# Select features (X) and target (y)\n",
        "X = df.drop(columns=[\"selling_price\"])\n",
        "y = df[\"selling_price\"]\n",
        "\n",
        "# Split the data\n",
        "X_train, X_test, y_train, y_test = train_test_split(X, y, test_size=0.2, random_state=42)\n",
        "\n",
        "# Train model\n",
        "model = RandomForestRegressor(n_estimators=2, random_state=42)\n",
        "model.fit(X_train, y_train)\n",
        "\n",
        "# Save the model and encoders\n",
        "with open(\"car_price_model.pkl\", \"wb\") as f:\n",
        "    pickle.dump((model, label_encoders), f)\n",
        "\n",
        "print(\"✅ Model and encoders saved to car_price_model.pkl\")\n"
      ]
    }
  ]
}